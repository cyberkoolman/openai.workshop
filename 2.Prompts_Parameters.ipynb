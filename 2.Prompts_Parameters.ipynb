{
 "cells": [
  {
   "attachments": {},
   "cell_type": "markdown",
   "metadata": {},
   "source": [
    "#### Key concepts - Prompts & Completions\n",
    "\n",
    "The completions endpoint is the core component of the API service. This API provides access to the model's text-in, text-out interface. Users simply need to provide an input prompt containing the English text command, and the model will generate a text completion."
   ]
  },
  {
   "cell_type": "code",
   "execution_count": 1,
   "metadata": {},
   "outputs": [],
   "source": [
    "# Import Python libraries\n",
    "import os\n",
    "import openai\n",
    "from Utilities.envVars import *\n",
    "\n",
    "# Set OpenAI API key and endpoint\n",
    "openai.api_type = \"azure\"\n",
    "openai.api_version = OpenAiVersion\n",
    "openai_api_key = OpenAiKey\n",
    "assert openai_api_key, \"ERROR: Azure OpenAI Key is missing\"\n",
    "openai.api_key = openai_api_key\n",
    "openAiEndPoint = f\"{OpenAiEndPoint}\"\n",
    "openai.api_base = openAiEndPoint"
   ]
  },
  {
   "cell_type": "code",
   "execution_count": 2,
   "metadata": {},
   "outputs": [],
   "source": [
    "# Helper Function to call OpenAI\n",
    "def callOpenAi(num_times, messages, temperature):\n",
    "    for i in range(num_times):\n",
    "        response = openai.ChatCompletion.create(\n",
    "            engine=OpenAiChat,\n",
    "            messages=messages,\n",
    "            max_tokens=60,\n",
    "            temperature = temperature\n",
    "        )\n",
    "        print(response.choices[0].message.content.strip(\" \\n\"))"
   ]
  },
  {
   "cell_type": "code",
   "execution_count": 3,
   "metadata": {},
   "outputs": [
    {
     "name": "stdout",
     "output_type": "stream",
     "text": [
      "subjective question and can vary depending on individual preferences and circumstances. Some people may prefer dogs as pets because they are loyal, affectionate, and can be trained to perform various tasks. Others may prefer cats because they are independent, low-maintenance, and provide companionship. Some people may prefer smaller\n",
      "subjective question and can vary depending on individual preferences and circumstances. Some people may prefer dogs as pets because they are loyal, affectionate, and can be trained to perform various tasks. Others may prefer cats because they are independent, low-maintenance, and provide companionship. Some people may prefer smaller\n",
      "subjective question and can vary depending on individual preferences and circumstances. Some people may prefer dogs as pets because they are loyal, affectionate, and can be trained to perform various tasks. Others may prefer cats because they are independent, low-maintenance, and provide companionship. Some people may prefer smaller\n",
      "subjective question and can vary depending on individual preferences and circumstances. Some people may prefer dogs as pets because they are loyal, affectionate, and can be trained to perform various tasks. Others may prefer cats because they are independent, low-maintenance, and provide companionship. Some people may prefer smaller\n",
      "subjective question and can vary depending on individual preferences and circumstances. Some people may prefer dogs as pets because they are loyal, affectionate, and can be trained to perform various tasks. Others may prefer cats because they are independent, low-maintenance, and provide companionship. Some people may prefer smaller\n",
      "subjective question and can vary depending on individual preferences and circumstances. Some people may prefer dogs as pets because they are loyal, affectionate, and can be trained to perform various tasks. Others may prefer cats because they are independent, low-maintenance, and provide companionship. Some people may prefer smaller\n",
      "subjective question and can vary depending on individual preferences and circumstances. Some people may prefer dogs as pets because they are loyal, affectionate, and can be trained to perform various tasks. Others may prefer cats because they are independent, low-maintenance, and provide companionship. Some people may prefer smaller\n",
      "subjective question and can vary depending on individual preferences and circumstances. Some people may prefer dogs as pets because they are loyal, affectionate, and can be trained to perform various tasks. Others may prefer cats because they are independent, low-maintenance, and provide companionship. Some people may prefer smaller\n",
      "subjective question and can vary depending on individual preferences and circumstances. Some people may prefer dogs as pets because they are loyal, affectionate, and can be trained to perform various tasks. Others may prefer cats because they are independent, low-maintenance, and provide companionship. Some people may prefer smaller\n",
      "subjective question and can vary depending on individual preferences and circumstances. Some people may prefer dogs as pets because they are loyal, affectionate, and can be trained to perform various tasks. Others may prefer cats because they are independent, low-maintenance, and provide companionship. Some people may prefer smaller\n"
     ]
    }
   ],
   "source": [
    "# Temperature - Defaults to 1\n",
    "# What sampling temperature to use. Higher values means the model will take more risks. \n",
    "# Try 0.9 for more creative applications, and 0 (argmax sampling) for ones with a well-defined answer.\n",
    "#We generally recommend altering this or top_p but not both.\n",
    "messages=[\n",
    "        {\"role\": \"system\", \"content\": 'The best pet is a '}\n",
    "    ]\n",
    "callOpenAi(10, messages, temperature = 0)"
   ]
  },
  {
   "cell_type": "code",
   "execution_count": 4,
   "metadata": {},
   "outputs": [
    {
     "name": "stdout",
     "output_type": "stream",
     "text": [
      "subjective opinion and may vary depending on a person's preferences, lifestyle, and circumstances. Some people may prefer dogs as pets because they are loyal, affectionate, and can be trained to do various tasks. Others may prefer cats because they are independent, low-maintenance, and provide company without requiring\n",
      "subjective matter, as it ultimately depends on an individual's personal preferences and lifestyle. Some may argue that dogs make the best pets because of their loyalty, companionship, and ability to be trained. Others may prefer cats for their independence and low maintenance. Others may suggest birds for their intelligence and ability\n",
      "subjective question and can vary depending on individual preferences and circumstances. Some people may argue that dogs make the best pets because they are loyal, loving, and great companions. Others may prefer cats because they are low maintenance and independent. Some may even argue that fish or birds make the best pets because they\n",
      "subjective question, as it depends on the individual's preferences and lifestyle. Some people may prefer dogs as pets because of their loyalty and ability to be trained. Others may prefer cats for their low maintenance and independent nature. Other popular pets include birds, fish, rabbits, and hamsters. Ultimately,\n",
      "subjective topic, as it largely depends on individual preferences and lifestyles. Some people may prefer the companionship of a dog, while others may prefer the independence of a cat. Others may prefer smaller pets such as birds, rabbits, or guinea pigs. Ultimately, the best pet is one that fits\n",
      "personal preference and depends on a variety of factors such as lifestyle, living situation, and individual preferences. Some people may prefer dogs as they are loyal, affectionate, and great companions for activities such as walking, hiking, and running. Others may prefer cats as they are independent, low-maintenance,\n",
      "subjective choice that varies greatly depending on an individual's personal preferences, lifestyle, and circumstances. Some may argue that dogs make the best pets due to their loyalty, companionship, and ability to provide protection. Others may argue that cats are the best pets because they are low maintenance, independent, and\n",
      "subjective matter, as different people have different preferences and lifestyles. Some may argue that dogs make the best pets because of their loyalty, companionship, and the fact that they can be trained to perform various tasks such as assisting the disabled or detecting drugs. Others may prefer cats because of their independence,\n",
      "subjective question as everyone has different preferences and needs. Some people may prefer dogs as pets because they are loyal, affectionate, and can be trained to perform various tasks. Others may prefer cats because they are independent, low-maintenance, and provide comfort and companionship. Some people may prefer small\n",
      "person's personal preference and lifestyle. Some people may prefer dogs because they are social, loyal, and can be trained easily. Others may prefer cats because they are independent, low maintenance, and can be affectionate. Some people may prefer smaller pets like hamsters, rabbits, or guinea pigs because\n"
     ]
    }
   ],
   "source": [
    "# Let's vary the temperature and set it to \"1\"\n",
    "messages=[\n",
    "        {\"role\": \"system\", \"content\": 'The best pet is a '}\n",
    "    ]\n",
    "callOpenAi(10, messages, temperature = 1)"
   ]
  },
  {
   "cell_type": "code",
   "execution_count": 5,
   "metadata": {},
   "outputs": [],
   "source": [
    "# Helper Function to call OpenAI\n",
    "def callOpenAiTopP(num_times, messages, top_p):\n",
    "    for i in range(num_times):\n",
    "        response = openai.ChatCompletion.create(\n",
    "            engine=OpenAiChat,\n",
    "            messages=messages,\n",
    "            max_tokens=60,\n",
    "            top_p = top_p\n",
    "        )\n",
    "        print(response.choices[0].message.content.strip(\" \\n\"))"
   ]
  },
  {
   "cell_type": "code",
   "execution_count": 6,
   "metadata": {},
   "outputs": [
    {
     "name": "stdout",
     "output_type": "stream",
     "text": [
      "matter of personal preference and lifestyle. Some people may prefer dogs as they are loyal and provide companionship, while others may prefer cats for their independence and low maintenance. Some people may even argue that small mammals like rabbits or guinea pigs make great pets due to their adorable nature and ease of care.\n",
      "subjective question and depends on individual preferences and circumstances. Some people may prefer dogs as they are loyal, playful, and can provide companionship and protection. Others may prefer cats as they are independent, low maintenance, and can be great for apartment living. Some people may prefer smaller pets like birds,\n",
      "subjective topic and can vary greatly depending on personal preferences and individual circumstances. Some people may feel that dogs make the best pets because of their loyalty and companionship. Others may prefer cats for their independence and low maintenance. Some people may prefer smaller animals like hamsters or guinea pigs because they require\n",
      "subjective opinion and can vary depending on individual preferences and circumstances. Some people may prefer dogs as pets because of their loyalty, companionship, and ability to be trained. Others may prefer cats for their independence, low maintenance, and ability to provide comfort. Some may prefer smaller animals like hamsters or\n",
      "subjective question and depends on individual preferences and lifestyles. Some people may argue that dogs are the best pets because they are loyal, loving, and great companions. Others may prefer cats because they are independent, low-maintenance, and provide great comfort. Some individuals may prefer smaller pets like rabbits, gu\n"
     ]
    }
   ],
   "source": [
    "# top_p - Defaults to 1\n",
    "# An alternative to sampling with temperature, called nucleus sampling, where the model considers the results of the tokens \n",
    "# with top_p probability mass. So 0.1 means only the tokens comprising the top 10% probability mass are considered.\n",
    "# We generally recommend altering this or temperature but not both.\n",
    "messages=[\n",
    "        {\"role\": \"system\", \"content\": 'The best pet is a '}\n",
    "    ]\n",
    "callOpenAiTopP(5, messages, top_p = 1)"
   ]
  },
  {
   "cell_type": "code",
   "execution_count": 7,
   "metadata": {},
   "outputs": [
    {
     "name": "stdout",
     "output_type": "stream",
     "text": [
      "subjective question and can vary depending on individual preferences and circumstances. Some people may prefer dogs as pets because they are loyal, affectionate, and can be trained to perform various tasks. Others may prefer cats because they are independent, low-maintenance, and provide companionship. Some people may prefer smaller\n",
      "subjective question and can vary depending on individual preferences and circumstances. Some people may prefer dogs as pets because they are loyal, affectionate, and can be trained to perform various tasks. Others may prefer cats because they are independent, low-maintenance, and provide companionship. Some people may prefer smaller\n",
      "subjective question and can vary depending on individual preferences and circumstances. Some people may prefer dogs as pets because they are loyal, affectionate, and can be trained to perform various tasks. Others may prefer cats because they are independent, low-maintenance, and provide companionship. Some people may prefer smaller\n",
      "subjective question and can vary depending on individual preferences and circumstances. Some people may prefer dogs as pets because they are loyal, affectionate, and can be trained to perform various tasks. Others may prefer cats because they are independent, low-maintenance, and provide companionship. Some people may prefer smaller\n",
      "subjective question and can vary depending on individual preferences and circumstances. Some people may prefer dogs as pets because they are loyal, affectionate, and can be trained to perform various tasks. Others may prefer cats because they are independent, low-maintenance, and provide companionship. Some people may prefer smaller\n"
     ]
    }
   ],
   "source": [
    "# Let's vary the top_p and set it to \"0.1\"\n",
    "messages=[\n",
    "        {\"role\": \"system\", \"content\": 'The best pet is a '}\n",
    "    ]\n",
    "callOpenAiTopP(5, messages, top_p = 0.1)"
   ]
  },
  {
   "cell_type": "markdown",
   "metadata": {},
   "source": [
    "#### Exercise 12 - Logitbias\n",
    "- If you want to prevent LLM to respond with certain words not to be included on the response\n",
    "- If you want to have banned list of words\n",
    "- Reference: https://platform.openai.com/tokenizer"
   ]
  },
  {
   "cell_type": "code",
   "execution_count": 10,
   "metadata": {},
   "outputs": [
    {
     "name": "stdout",
     "output_type": "stream",
     "text": [
      "Jupiter is a really big planet that is far away from the Sun. It is made mostly of gas and is much bigger than all the other planets combined. People have known about Jupiter for a really long time because it is very bright in the sky at night. It is named after a god from ancient Rome. When we look at Jupiter from Earth, it can be so bright that it can make shadows. It is usually the third-brightest thing we can see in the sky at night, after the Moon and Venus.\n"
     ]
    }
   ],
   "source": [
    "# Give your prompt here\n",
    "prompt = \"\"\"Summarize this for a second-grade student:\n",
    "\n",
    "        Jupiter is the fifth planet from the Sun and the largest in the Solar System. It is a gas giant with a mass one-thousandth that of \n",
    "        the Sun, but two-and-a-half times that of all the other planets in the Solar System combined. \n",
    "        Jupiter is one of the brightest objects visible to the naked eye in the night sky, and has been known to ancient\n",
    "        civilizations since before recorded history. It is named after the Roman god Jupiter. \n",
    "        When viewed from Earth, Jupiter can be bright enough for its reflected light to cast visible shadows, \n",
    "        and is on average the third-brightest natural object in the night sky after the Moon and Venus.\"\"\"\n",
    "\n",
    "messages=[\n",
    "        {\"role\": \"system\", \"content\": prompt}\n",
    "    ]\n",
    "\n",
    "# logitbias_array={}\n",
    "# logitbias_array={32148: -10}\n",
    "logitbias_array={18156: -10}\n",
    "\n",
    "completion = openai.ChatCompletion.create(\n",
    "                messages=messages,\n",
    "                temperature=0,\n",
    "                max_tokens=500,\n",
    "                logit_bias=logitbias_array,\n",
    "                engine=OpenAiChat)\n",
    "\n",
    "print(completion.choices[0].message.content.strip(\" \\n\"))"
   ]
  },
  {
   "cell_type": "code",
   "execution_count": null,
   "metadata": {},
   "outputs": [],
   "source": []
  }
 ],
 "metadata": {
  "kernelspec": {
   "display_name": "Python 3 (ipykernel)",
   "language": "python",
   "name": "python3"
  },
  "language_info": {
   "codemirror_mode": {
    "name": "ipython",
    "version": 3
   },
   "file_extension": ".py",
   "mimetype": "text/x-python",
   "name": "python",
   "nbconvert_exporter": "python",
   "pygments_lexer": "ipython3",
   "version": "3.9.16"
  }
 },
 "nbformat": 4,
 "nbformat_minor": 4
}
