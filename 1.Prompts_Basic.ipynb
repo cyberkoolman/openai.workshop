{
 "cells": [
  {
   "attachments": {},
   "cell_type": "markdown",
   "metadata": {},
   "source": [
    "#### Key concepts - Prompts & Completions\n",
    "\n",
    "The completions endpoint is the core component of the API service. This API provides access to the model's text-in, text-out interface. Users simply need to provide an input prompt containing the English text command, and the model will generate a text completion."
   ]
  },
  {
   "attachments": {},
   "cell_type": "markdown",
   "metadata": {},
   "source": [
    "#### Retrieve key and endpoint\n",
    "To successfully make a call against the Azure OpenAI service, you'll need the following:\n",
    "\n",
    "- ENDPOINT -> This value can be found in the Keys & Endpoint section when examining your resource from the Azure portal. Alternatively, you can find the value in Azure OpenAI Studio > Playground > Code View. An example endpoint is: https://docs-test-001.openai.azure.com/.\n",
    "- API-KEY -> This value can be found in the Keys & Endpoint section when examining your resource from the Azure portal. You can use either KEY1 or KEY2.\n",
    "- DEPLOYMENT-NAME -> This value will correspond to the custom name you chose for your deployment when you deployed a model. This value can be found under Resource Management > Deployments in the Azure portal or alternatively under Management > Deployments in Azure OpenAI Studio.\n",
    "\n",
    "Go to your resource in the Azure portal. The Endpoint and Keys can be found in the Resource Management section. Copy your endpoint and access key as you'll need both for authenticating your API calls. You can use either KEY1 or KEY2. Always having two keys allows you to securely rotate and regenerate keys without causing a service disruption."
   ]
  },
  {
   "attachments": {},
   "cell_type": "markdown",
   "metadata": {},
   "source": [
    "#### Environment variables\n",
    "Copy .env.sample to .env and fill in the values for your environment.\n",
    "\n",
    "- OPENAI_API_KEY=\n",
    "- OPENAI_API_BASE=\n"
   ]
  },
  {
   "cell_type": "code",
   "execution_count": 1,
   "metadata": {},
   "outputs": [],
   "source": [
    "# Import Python libraries\n",
    "import os\n",
    "import openai\n",
    "from Utilities.envVars import *\n",
    "\n",
    "# Set OpenAI API key and endpoint\n",
    "openai.api_type = \"azure\"\n",
    "openai.api_version = OpenAiVersion\n",
    "openai_api_key = OpenAiKey\n",
    "assert openai_api_key, \"ERROR: Azure OpenAI Key is missing\"\n",
    "openai.api_key = openai_api_key\n",
    "openAiEndPoint = f\"{OpenAiEndPoint}\"\n",
    "openai.api_base = openAiEndPoint"
   ]
  },
  {
   "cell_type": "code",
   "execution_count": 2,
   "metadata": {},
   "outputs": [
    {
     "data": {
      "text/plain": [
       "<OpenAIObject chat.completion id=chatcmpl-8ikWAW0b2g4evBDroMKzeMtgLxQVl at 0x1f976e959f0> JSON: {\n",
       "  \"choices\": [\n",
       "    {\n",
       "      \"finish_reason\": \"stop\",\n",
       "      \"index\": 0,\n",
       "      \"message\": {\n",
       "        \"content\": \"Jupiter is a really big planet that is far away from the Sun. It is made mostly of gas and is much bigger than all the other planets combined. People have known about Jupiter for a really long time because it is very bright in the sky at night. It is named after a god from ancient Rome. Sometimes, Jupiter is so bright that it can make shadows on Earth. It is one of the brightest things we can see in the sky, after the Moon and Venus.\",\n",
       "        \"role\": \"assistant\"\n",
       "      }\n",
       "    }\n",
       "  ],\n",
       "  \"created\": 1705675938,\n",
       "  \"id\": \"chatcmpl-8ikWAW0b2g4evBDroMKzeMtgLxQVl\",\n",
       "  \"model\": \"gpt-35-turbo\",\n",
       "  \"object\": \"chat.completion\",\n",
       "  \"usage\": {\n",
       "    \"completion_tokens\": 97,\n",
       "    \"prompt_tokens\": 157,\n",
       "    \"total_tokens\": 254\n",
       "  }\n",
       "}"
      ]
     },
     "execution_count": 2,
     "metadata": {},
     "output_type": "execute_result"
    }
   ],
   "source": [
    "# Give your prompt here\n",
    "prompt = \"\"\"Summarize this for a second-grade student:\n",
    "\n",
    "        Jupiter is the fifth planet from the Sun and the largest in the Solar System. It is a gas giant with a mass one-thousandth that of \n",
    "        the Sun, but two-and-a-half times that of all the other planets in the Solar System combined. \n",
    "        Jupiter is one of the brightest objects visible to the naked eye in the night sky, and has been known to ancient\n",
    "        civilizations since before recorded history. It is named after the Roman god Jupiter. \n",
    "        When viewed from Earth, Jupiter can be bright enough for its reflected light to cast visible shadows, \n",
    "        and is on average the third-brightest natural object in the night sky after the Moon and Venus.\"\"\"\n",
    "\n",
    "messages=[\n",
    "        {\"role\": \"system\", \"content\": prompt}\n",
    "    ]\n",
    "\n",
    "# Create a completion for the provided prompt and parameters\n",
    "# To know more about the parameters, checkout this documentation: https://learn.microsoft.com/en-us/azure/cognitive-services/openai/reference\n",
    "completion = openai.ChatCompletion.create(\n",
    "                messages=messages,\n",
    "                temperature=0,\n",
    "                max_tokens=200,\n",
    "                engine=OpenAiChat)\n",
    "completion\n",
    "# Verify at https://platform.openai.com/tokenizer\n",
    "# print the completion\n",
    "# print(completion.choices[0].message.content.strip(\" \\n\"))\n",
    "\n",
    "# Here indicating if the response is filtered\n",
    "# if completion.choices[0].finish_reason == \"content_filter\":\n",
    "  #  print(\"The generated content is filtered.\")"
   ]
  },
  {
   "cell_type": "code",
   "execution_count": 3,
   "metadata": {},
   "outputs": [
    {
     "name": "stdout",
     "output_type": "stream",
     "text": [
      "Jupiter is a really big planet that is far away from the Sun. It is made of gas and is even bigger than all the other planets combined. People have known about Jupiter for a really long time because it is very bright in the sky at night. It is named after a god from ancient Rome.\n"
     ]
    }
   ],
   "source": [
    "#Let's change the prompt to specify the length of the summary to be 3 sentences.\n",
    "prompt = \"\"\"Summarize this for a second-grade student in 3 sentences:\n",
    "\n",
    "        Jupiter is the fifth planet from the Sun and the largest in the Solar System. It is a gas giant with a mass one-thousandth that of \n",
    "        the Sun, but two-and-a-half times that of all the other planets in the Solar System combined. \n",
    "        Jupiter is one of the brightest objects visible to the naked eye in the night sky, and has been known to ancient\n",
    "        civilizations since before recorded history. It is named after the Roman god Jupiter. \n",
    "        When viewed from Earth, Jupiter can be bright enough for its reflected light to cast visible shadows, \n",
    "        and is on average the third-brightest natural object in the night sky after the Moon and Venus.\"\"\"\n",
    "\n",
    "messages=[\n",
    "        {\"role\": \"system\", \"content\": prompt}\n",
    "    ]\n",
    "\n",
    "# Create a completion for the provided prompt and parameters\n",
    "# To know more about the parameters, checkout this documentation: https://learn.microsoft.com/en-us/azure/cognitive-services/openai/reference\n",
    "completion = openai.ChatCompletion.create(\n",
    "                messages=messages,\n",
    "                temperature=0,\n",
    "                max_tokens=500,\n",
    "                engine=OpenAiChat)\n",
    "\n",
    "# print the completion\n",
    "print(completion.choices[0].message.content.strip(\" \\n\"))"
   ]
  },
  {
   "cell_type": "code",
   "execution_count": 4,
   "metadata": {},
   "outputs": [
    {
     "name": "stdout",
     "output_type": "stream",
     "text": [
      "Jupiter is the largest planet in our Solar System and is made mostly of gas. It has a mass that is 1/1000th that of the Sun, but is still 2.5 times more massive than all the other planets combined. It is very bright and can even cast visible shadows on Earth.\n"
     ]
    }
   ],
   "source": [
    "#Let's now change the prompt to specify the target audience of the summary to be a physicist.\n",
    "prompt = \"\"\"Summarize this for a physicist in 3 sentences:\n",
    "\n",
    "        Jupiter is the fifth planet from the Sun and the largest in the Solar System. It is a gas giant with a mass one-thousandth that of \n",
    "        the Sun, but two-and-a-half times that of all the other planets in the Solar System combined. \n",
    "        Jupiter is one of the brightest objects visible to the naked eye in the night sky, and has been known to ancient\n",
    "        civilizations since before recorded history. It is named after the Roman god Jupiter. \n",
    "        When viewed from Earth, Jupiter can be bright enough for its reflected light to cast visible shadows, \n",
    "        and is on average the third-brightest natural object in the night sky after the Moon and Venus.\"\"\"\n",
    "\n",
    "messages=[\n",
    "        {\"role\": \"system\", \"content\": prompt}\n",
    "    ]\n",
    "\n",
    "# Create a completion for the provided prompt and parameters\n",
    "# To know more about the parameters, checkout this documentation: https://learn.microsoft.com/en-us/azure/cognitive-services/openai/reference\n",
    "completion = openai.ChatCompletion.create(\n",
    "                messages=messages,\n",
    "                temperature=0,\n",
    "                max_tokens=500,\n",
    "                engine=OpenAiChat)\n",
    "\n",
    "# print the completion\n",
    "print(completion.choices[0].message.content.strip(\" \\n\"))"
   ]
  },
  {
   "cell_type": "code",
   "execution_count": 5,
   "metadata": {},
   "outputs": [
    {
     "name": "stdout",
     "output_type": "stream",
     "text": [
      "- Jupiter is a really big planet that is the fifth one from the Sun.\n",
      "- It is made mostly of gas and is way bigger than all the other planets put together.\n",
      "- People have known about Jupiter for a really long time because it is really bright in the night sky.\n"
     ]
    }
   ],
   "source": [
    "#You can easily control the format of the summarization as well to fit into desired formats. \n",
    "#Let's summarize the same text in a bullet point format.\n",
    "prompt = \"\"\"Summarize this for a second-grade student in 3 sentences in bullet points:\n",
    "\n",
    "        Jupiter is the fifth planet from the Sun and the largest in the Solar System. It is a gas giant with a mass one-thousandth that of \n",
    "        the Sun, but two-and-a-half times that of all the other planets in the Solar System combined. \n",
    "        Jupiter is one of the brightest objects visible to the naked eye in the night sky, and has been known to ancient\n",
    "        civilizations since before recorded history. It is named after the Roman god Jupiter. \n",
    "        When viewed from Earth, Jupiter can be bright enough for its reflected light to cast visible shadows, \n",
    "        and is on average the third-brightest natural object in the night sky after the Moon and Venus.\"\"\"\n",
    "\n",
    "messages=[\n",
    "        {\"role\": \"system\", \"content\": prompt}\n",
    "    ]\n",
    "\n",
    "# Create a completion for the provided prompt and parameters\n",
    "# To know more about the parameters, checkout this documentation: https://learn.microsoft.com/en-us/azure/cognitive-services/openai/reference\n",
    "completion = openai.ChatCompletion.create(\n",
    "                messages=messages,\n",
    "                temperature=0,\n",
    "                max_tokens=500,\n",
    "                engine=OpenAiChat)\n",
    "\n",
    "# print the completion\n",
    "print(completion.choices[0].message.content.strip(\" \\n\"))"
   ]
  },
  {
   "cell_type": "code",
   "execution_count": 6,
   "metadata": {},
   "outputs": [
    {
     "name": "stdout",
     "output_type": "stream",
     "text": [
      "Title: Jupiter - The Biggest and Brightest Planet in the Sky\n",
      "\n",
      "Abstract: Jupiter is a really big planet that is the fifth one from the Sun. It is so bright that we can see it at night and it is named after a Roman god.\n"
     ]
    }
   ],
   "source": [
    "#Summarize this for a second-grade student as a title and a one sentence abstract:\n",
    "prompt = \"\"\"Summarize this for a second-grade student as a title and a one sentence abstract:\n",
    "\n",
    "        Jupiter is the fifth planet from the Sun and the largest in the Solar System. It is a gas giant with a mass one-thousandth that of \n",
    "        the Sun, but two-and-a-half times that of all the other planets in the Solar System combined. \n",
    "        Jupiter is one of the brightest objects visible to the naked eye in the night sky, and has been known to ancient\n",
    "        civilizations since before recorded history. It is named after the Roman god Jupiter. \n",
    "        When viewed from Earth, Jupiter can be bright enough for its reflected light to cast visible shadows, \n",
    "        and is on average the third-brightest natural object in the night sky after the Moon and Venus.\"\"\"\n",
    "\n",
    "messages=[\n",
    "        {\"role\": \"system\", \"content\": prompt}\n",
    "    ]\n",
    "\n",
    "# Create a completion for the provided prompt and parameters\n",
    "# To know more about the parameters, checkout this documentation: https://learn.microsoft.com/en-us/azure/cognitive-services/openai/reference\n",
    "completion = openai.ChatCompletion.create(\n",
    "                messages=messages,\n",
    "                temperature=0,\n",
    "                max_tokens=500,\n",
    "                engine=OpenAiChat)\n",
    "\n",
    "# print the completion\n",
    "print(completion.choices[0].message.content.strip(\" \\n\"))"
   ]
  },
  {
   "cell_type": "code",
   "execution_count": 7,
   "metadata": {},
   "outputs": [
    {
     "name": "stdout",
     "output_type": "stream",
     "text": [
      "The first customer feedback is negative. The second customer feedback is positive.\n"
     ]
    }
   ],
   "source": [
    "#Sentiment Analysis\n",
    "prompt = \"\"\"Decide whether the following customer feedback is positive or negative.\n",
    "\n",
    "        Q: I was disappointed with the quality of the product. It was very cheaply made and did not meet my expectations at all.\n",
    "        Q: I was happy with this product, it is well made and great quality for the price.\n",
    "        \"\"\"\n",
    "\n",
    "messages=[\n",
    "        {\"role\": \"system\", \"content\": prompt}\n",
    "    ]\n",
    "\n",
    "# Create a completion for the provided prompt and parameters\n",
    "# To know more about the parameters, checkout this documentation: https://learn.microsoft.com/en-us/azure/cognitive-services/openai/reference\n",
    "completion = openai.ChatCompletion.create(\n",
    "                messages=messages,\n",
    "                temperature=0,\n",
    "                max_tokens=500,\n",
    "                engine=OpenAiChat)\n",
    "\n",
    "# print the completion\n",
    "print(completion.choices[0].message.content.strip(\" \\n\"))"
   ]
  },
  {
   "cell_type": "markdown",
   "metadata": {},
   "source": [
    "#### Classification\n",
    "- Exercise: Write a prompt that generates the expected completion\n",
    "- Input text: Not much to write about here, but it does exactly what it's supposed to. filters out the pop sounds. now my recordings are much more crisp. it is one of the lowest prices pop filters on amazon so might as well buy it, they honestly work the same despite their pricing."
   ]
  },
  {
   "cell_type": "code",
   "execution_count": 8,
   "metadata": {},
   "outputs": [
    {
     "name": "stdout",
     "output_type": "stream",
     "text": [
      "Positive sentiment: 0.95\n",
      "Neutral sentiment: 0.04\n",
      "Negative sentiment: 0.01\n"
     ]
    }
   ],
   "source": [
    "prompt = \"\"\"Not much to write about here, but it does exactly what it's supposed to. filters out the pop sounds. now my recordings are much more crisp. it is one of the lowest prices pop filters on amazon so might as well buy it, they honestly work the same despite their pricing\n",
    "\n",
    "Decide whether the product review's sentiment is positive, neutral or negative. Show the probability for positive, neutral and negative sentiment.\"\"\"\n",
    "\n",
    "messages=[\n",
    "        {\"role\": \"system\", \"content\": prompt}\n",
    "    ]\n",
    "# Create a completion for the provided prompt and parameters\n",
    "# To know more about the parameters, checkout this documentation: https://learn.microsoft.com/en-us/azure/cognitive-services/openai/reference\n",
    "completion = openai.ChatCompletion.create(\n",
    "                messages=messages,\n",
    "                temperature=0,\n",
    "                max_tokens=500,\n",
    "                engine=OpenAiChat)\n",
    "\n",
    "# print the completion\n",
    "print(completion.choices[0].message.content.strip(\" \\n\"))"
   ]
  },
  {
   "cell_type": "code",
   "execution_count": 9,
   "metadata": {},
   "outputs": [
    {
     "name": "stdout",
     "output_type": "stream",
     "text": [
      "Department.name\n",
      "        FROM Department\n",
      "        INNER JOIN Employee ON Department.id = Employee.department_id\n",
      "        WHERE Employee.id IN (\n",
      "            SELECT employee_id\n",
      "            FROM Salary_Payments\n",
      "            WHERE date >= current_date - interval '3 months'\n",
      "            GROUP BY employee_id\n",
      "            HAVING count(*) > 10\n",
      "        )\n"
     ]
    }
   ],
   "source": [
    "#Code Generation\n",
    "prompt =  \"\"\"### Postgres SQL tables, with their properties:\n",
    "        #\n",
    "        # Employee(id, name, department_id)\n",
    "        # Department(id, name, address)\n",
    "        # Salary_Payments(id, employee_id, amount, date)\n",
    "        #\n",
    "        ### A query to list the names of the departments which employed more than 10 employees in the last 3 months\n",
    "        query: SELECT\"\"\"\n",
    "\n",
    "messages=[\n",
    "        {\"role\": \"system\", \"content\": prompt}\n",
    "    ]\n",
    "\n",
    "# Create a completion for the provided prompt and parameters\n",
    "# To know more about the parameters, checkout this documentation: https://learn.microsoft.com/en-us/azure/cognitive-services/openai/reference\n",
    "completion = openai.ChatCompletion.create(\n",
    "                messages=messages,\n",
    "                temperature=0,\n",
    "                max_tokens=500,\n",
    "                engine=OpenAiChat)\n",
    "\n",
    "# print the completion\n",
    "print(completion.choices[0].message.content.strip(\" \\n\"))"
   ]
  },
  {
   "cell_type": "code",
   "execution_count": 10,
   "metadata": {},
   "outputs": [
    {
     "name": "stdout",
     "output_type": "stream",
     "text": [
      "This code is a SQL query that retrieves the names of departments that have more than 10 employees who have received salary payments in the last 3 months.\n",
      "\n",
      "The query starts by selecting the name column from the Department table. It then joins the Employee table on the condition that the department_id in the Employee table matches the id in the Department table.\n",
      "\n",
      "Next, it uses a subquery to select the employee_id from the Salary_Payments table where the date is greater than the current date minus 3 months.\n",
      "\n",
      "The main query then groups the results by the department name and applies a filter using the HAVING clause. It only includes departments where the count of employees is greater than 10.\n",
      "\n",
      "In summary, this query retrieves the names of departments that have more than 10 employees who have received salary payments in the last 3 months.\n"
     ]
    }
   ],
   "source": [
    "#Code Explanation\n",
    "prompt =  \"\"\"Can you explain what does this code do?\n",
    "        #\n",
    "        # ###\n",
    "        Code:\n",
    "        SELECT d.name FROM Department d JOIN Employee e ON d.id = e.department_id WHERE e.id IN (SELECT employee_id \n",
    "        FROM Salary_Payments WHERE date > now() - interval '3 months') GROUP BY d.name HAVING COUNT(*) > 10\n",
    "        #\n",
    "        #\n",
    "        Answer:\n",
    "        #\"\"\"\n",
    "\n",
    "messages=[\n",
    "        {\"role\": \"system\", \"content\": prompt}\n",
    "    ]\n",
    "\n",
    "# Create a completion for the provided prompt and parameters\n",
    "# To know more about the parameters, checkout this documentation: https://learn.microsoft.com/en-us/azure/cognitive-services/openai/reference\n",
    "completion = openai.ChatCompletion.create(\n",
    "                messages=messages,\n",
    "                temperature=0,\n",
    "                max_tokens=500,\n",
    "                engine=OpenAiChat)\n",
    "\n",
    "# print the completion\n",
    "print(completion.choices[0].message.content.strip(\" \\n\"))"
   ]
  },
  {
   "cell_type": "markdown",
   "metadata": {},
   "source": [
    "#### Translation\n",
    "\n",
    "- Exercise: Write a prompt that generates the expected completion\n",
    "- Input text: I was enjoying the sun, but then a huge cloud came and covered the sky.\n",
    "- Expected completion: Ich genoss die Sonne, aber dann kam eine riesige Wolke und bedeckte den Himmel."
   ]
  },
  {
   "cell_type": "code",
   "execution_count": 11,
   "metadata": {},
   "outputs": [
    {
     "name": "stdout",
     "output_type": "stream",
     "text": [
      "Ich genoss die Sonne, aber dann kam eine riesige Wolke und bedeckte den Himmel.\n"
     ]
    }
   ],
   "source": [
    "prompt = \"\"\"Translate the following sentence into German:\n",
    "\n",
    "        Sentence: I was enjoying the sun, but then a huge cloud came and covered the sky.\n",
    "\n",
    "        German translation:\"\"\"\n",
    "\n",
    "messages=[\n",
    "        {\"role\": \"system\", \"content\": prompt}\n",
    "    ]\n",
    "\n",
    "# Create a completion for the provided prompt and parameters\n",
    "# To know more about the parameters, checkout this documentation: https://learn.microsoft.com/en-us/azure/cognitive-services/openai/reference\n",
    "completion = openai.ChatCompletion.create(\n",
    "                messages=messages,\n",
    "                temperature=0,\n",
    "                max_tokens=500,\n",
    "                engine=OpenAiChat)\n",
    "\n",
    "# print the completion\n",
    "print(completion.choices[0].message.content.strip(\" \\n\"))"
   ]
  },
  {
   "cell_type": "markdown",
   "metadata": {},
   "source": [
    "#### Negation\n",
    "- Exercise: Write a prompt that generates the expected completion\n",
    "- Input text: I was enjoying the sun, but then a huge cloud came and covered the sky.\n",
    "- Expected completion: I was not enjoying the sun, and then a huge cloud did not come and cover the sky."
   ]
  },
  {
   "cell_type": "code",
   "execution_count": 12,
   "metadata": {},
   "outputs": [
    {
     "name": "stdout",
     "output_type": "stream",
     "text": [
      "I was not enjoying the sun, and then a huge cloud did not come and cover the sky.\n"
     ]
    }
   ],
   "source": [
    "prompt = \"\"\"Negate the following sentence.\n",
    "Sentence: I was enjoying the sun, but then a huge cloud came and covered the sky.\n",
    "Negated sentence:\"\"\"\n",
    "\n",
    "messages=[\n",
    "        {\"role\": \"system\", \"content\": prompt}\n",
    "    ]\n",
    "\n",
    "# Create a completion for the provided prompt and parameters\n",
    "# To know more about the parameters, checkout this documentation: https://learn.microsoft.com/en-us/azure/cognitive-services/openai/reference\n",
    "completion = openai.ChatCompletion.create(\n",
    "                messages=messages,\n",
    "                temperature=0,\n",
    "                max_tokens=500,\n",
    "                engine=OpenAiChat)\n",
    "\n",
    "# print the completion\n",
    "print(completion.choices[0].message.content.strip(\" \\n\"))"
   ]
  },
  {
   "cell_type": "code",
   "execution_count": 13,
   "metadata": {},
   "outputs": [
    {
     "name": "stdout",
     "output_type": "stream",
     "text": [
      "- John Doe (name)\n",
      "- 35 (age)\n",
      "- 21 Main Street, New York, NY (address)\n",
      "- Software engineer (occupation)\n",
      "- Microsoft (employer)\n",
      "- Jane Doe (wife's name)\n",
      "- Two children (family information)\n"
     ]
    }
   ],
   "source": [
    "#PII Detection\n",
    "prompt =  \"\"\"List all PII data from following statement:\n",
    "        John Doe is a 35-year old man and he lives at 21 Main Street, New York, NY. He is a software engineer and he works at Microsoft. He has a wife named Jane Doe and they have two children\n",
    "        \"\"\"\n",
    "\n",
    "messages=[\n",
    "        {\"role\": \"system\", \"content\": prompt}\n",
    "    ]\n",
    "\n",
    "# Create a completion for the provided prompt and parameters\n",
    "# To know more about the parameters, checkout this documentation: https://learn.microsoft.com/en-us/azure/cognitive-services/openai/reference\n",
    "completion = openai.ChatCompletion.create(\n",
    "                messages=messages,\n",
    "                temperature=0,\n",
    "                max_tokens=500,\n",
    "                engine=OpenAiChat)\n",
    "\n",
    "\n",
    "# print the completion\n",
    "print(completion.choices[0].message.content.strip(\" \\n\"))"
   ]
  },
  {
   "cell_type": "code",
   "execution_count": null,
   "metadata": {},
   "outputs": [],
   "source": []
  }
 ],
 "metadata": {
  "kernelspec": {
   "display_name": "Python 3 (ipykernel)",
   "language": "python",
   "name": "python3"
  },
  "language_info": {
   "codemirror_mode": {
    "name": "ipython",
    "version": 3
   },
   "file_extension": ".py",
   "mimetype": "text/x-python",
   "name": "python",
   "nbconvert_exporter": "python",
   "pygments_lexer": "ipython3",
   "version": "3.9.16"
  }
 },
 "nbformat": 4,
 "nbformat_minor": 4
}
