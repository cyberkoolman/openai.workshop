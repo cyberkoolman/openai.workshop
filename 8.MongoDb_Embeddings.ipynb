{
 "cells": [
  {
   "cell_type": "markdown",
   "metadata": {
    "id": "golEYAY3lHVj"
   },
   "source": [
    "# Semantic Search with Azure CosmosDB for MongoDB (vCore)\n",
    "\n",
    "This notebook illustrates the Native Vector Search.  Azure CosmosDB for MongoDB (vCore) Seamlessly integrate your AI-based applications with your data that's stored in Azure Cosmos DB for MongoDB vCore. This integration is an all-in-one solution, unlike other vector search solutions that send your data between service integrations."
   ]
  },
  {
   "cell_type": "code",
   "execution_count": 1,
   "metadata": {
    "colab": {
     "base_uri": "https://localhost:8080/"
    },
    "id": "bUPM0-8iLNK0",
    "outputId": "e40c2740-102f-4f9e-b107-007d7d4d2ee5"
   },
   "outputs": [],
   "source": [
    "# Import Python libraries\n",
    "import os\n",
    "import openai\n",
    "from Utilities.envVars import *\n",
    "\n",
    "# Set OpenAI API key and endpoint\n",
    "openai.api_type = \"azure\"\n",
    "openai.api_version = OpenAiVersion\n",
    "openai_api_key = OpenAiKey\n",
    "assert openai_api_key, \"ERROR: Azure OpenAI Key is missing\"\n",
    "openai.api_key = openai_api_key\n",
    "openAiEndPoint = f\"{OpenAiEndPoint}\"\n",
    "openai.api_base = openAiEndPoint"
   ]
  },
  {
   "cell_type": "code",
   "execution_count": 2,
   "metadata": {},
   "outputs": [],
   "source": [
    "# Import required libraries\n",
    "from langchain.llms.openai import AzureOpenAI, OpenAI\n",
    "from langchain.text_splitter import RecursiveCharacterTextSplitter\n",
    "from langchain.document_loaders import (\n",
    "    PDFMinerLoader,\n",
    "    UnstructuredFileLoader,\n",
    "    PyPDFLoader, \n",
    "    DirectoryLoader\n",
    ")"
   ]
  },
  {
   "cell_type": "code",
   "execution_count": 3,
   "metadata": {
    "colab": {
     "base_uri": "https://localhost:8080/"
    },
    "id": "rHJ-2gvfx9-J",
    "outputId": "d31b80ff-407d-44d0-cea3-c76a44a41156"
   },
   "outputs": [],
   "source": [
    "# Flexibility to change the call to OpenAI or Azure OpenAI\n",
    "embeddingModelType = \"azureopenai\""
   ]
  },
  {
   "cell_type": "code",
   "execution_count": 4,
   "metadata": {
    "colab": {
     "base_uri": "https://localhost:8080/"
    },
    "id": "0LFNfufoqToT",
    "outputId": "adf20407-fc11-4b8b-aa03-f296a5e6e264"
   },
   "outputs": [],
   "source": [
    "# For single pdf \n",
    "# fileName = \"employee_handbook.pdf\"\n",
    "# pdfFilePath = \"Data/Contoso/\" + fileName\n",
    "# Load the PDF with Document Loader available from Langchain\n",
    "# loader = PDFMinerLoader(pdfFilePath)\n",
    "\n",
    "# For all files in the directory\n",
    "loader = DirectoryLoader('Data/Contoso', glob=\"*.pdf\", loader_cls=PyPDFLoader)\n",
    "\n",
    "rawDocs = loader.load()\n",
    "textSplitter = RecursiveCharacterTextSplitter(chunk_size=1500, chunk_overlap=0)\n",
    "documents = textSplitter.split_documents(rawDocs)"
   ]
  },
  {
   "cell_type": "code",
   "execution_count": 5,
   "metadata": {},
   "outputs": [
    {
     "name": "stdout",
     "output_type": "stream",
     "text": [
      "515\n"
     ]
    }
   ],
   "source": [
    "documents\n",
    "print(len(documents))"
   ]
  },
  {
   "cell_type": "code",
   "execution_count": 6,
   "metadata": {},
   "outputs": [],
   "source": [
    "from langchain.embeddings import AzureOpenAIEmbeddings\n",
    "\n",
    "openai_embeddings = AzureOpenAIEmbeddings(\n",
    "    openai_api_version=openai.api_version,\n",
    "    openai_api_key=openai.api_key,\n",
    "    azure_deployment = \"embedding\",\n",
    "    azure_endpoint=openai.api_base)"
   ]
  },
  {
   "cell_type": "code",
   "execution_count": 7,
   "metadata": {},
   "outputs": [],
   "source": [
    "# Create a vector index \n",
    "from pymongo import MongoClient\n",
    "\n",
    "from langchain.vectorstores.azure_cosmos_db import AzureCosmosDBVectorSearch,CosmosDBSimilarityType\n",
    "\n",
    "CONNECTION_STRING = \"mongodb+srv://<username>:<password>@rpopenai.mongocluster.cosmos.azure.com/?tls=true&authMechanism=SCRAM-SHA-256&retrywrites=false&maxIdleTimeMS=120000\"\n",
    "INDEX_NAME = \"contoso-employee-handbook-index1\"\n",
    "NAMESPACE = \"contoso-employee-db1.contoso-employee-collection1\"\n",
    "DB_NAME, COLLECTION_NAME = NAMESPACE.split(\".\")"
   ]
  },
  {
   "cell_type": "code",
   "execution_count": 8,
   "metadata": {},
   "outputs": [],
   "source": [
    "client: MongoClient = MongoClient(CONNECTION_STRING)"
   ]
  },
  {
   "cell_type": "code",
   "execution_count": 9,
   "metadata": {},
   "outputs": [],
   "source": [
    "collection = client[DB_NAME][COLLECTION_NAME]"
   ]
  },
  {
   "cell_type": "code",
   "execution_count": 10,
   "metadata": {},
   "outputs": [
    {
     "name": "stdout",
     "output_type": "stream",
     "text": [
      "Collection(Database(MongoClient(host=['c.rpopenai.mongocluster.cosmos.azure.com:10260'], document_class=dict, tz_aware=False, connect=True, tls=True, authmechanism='SCRAM-SHA-256', retrywrites=False, maxidletimems=120000), 'contoso-employee-db1'), 'contoso-employee-collection1')\n"
     ]
    }
   ],
   "source": [
    "print(collection)"
   ]
  },
  {
   "cell_type": "code",
   "execution_count": 11,
   "metadata": {},
   "outputs": [],
   "source": [
    "vectorstore = AzureCosmosDBVectorSearch.from_documents(\n",
    "    documents,\n",
    "    openai_embeddings,\n",
    "    collection=collection,\n",
    "    index_name=INDEX_NAME,\n",
    ")"
   ]
  },
  {
   "cell_type": "code",
   "execution_count": 12,
   "metadata": {},
   "outputs": [
    {
     "data": {
      "text/plain": [
       "{'raw': {'defaultShard': {'numIndexesBefore': 2,\n",
       "   'numIndexesAfter': 2,\n",
       "   'createdCollectionAutomatically': False,\n",
       "   'note': 'all indexes already exist',\n",
       "   'ok': 1}},\n",
       " 'ok': 1}"
      ]
     },
     "execution_count": 12,
     "metadata": {},
     "output_type": "execute_result"
    }
   ],
   "source": [
    "num_lists = 100\n",
    "dimensions = 1536\n",
    "similarity_algorithm = CosmosDBSimilarityType.COS\n",
    "\n",
    "vectorstore.create_index(num_lists, dimensions, similarity_algorithm)"
   ]
  },
  {
   "cell_type": "code",
   "execution_count": 13,
   "metadata": {},
   "outputs": [],
   "source": [
    "from langchain.chains import RetrievalQA\n",
    "from langchain.memory import RedisChatMessageHistory,MongoDBChatMessageHistory\n",
    "from langchain.memory import ConversationBufferMemory\n",
    "from langchain.chat_models import ChatOpenAI,AzureChatOpenAI\n",
    "from langchain.agents import ZeroShotAgent, Tool, AgentExecutor,initialize_agent"
   ]
  },
  {
   "cell_type": "code",
   "execution_count": 14,
   "metadata": {},
   "outputs": [],
   "source": [
    "llm = AzureChatOpenAI(    \n",
    "    openai_api_version=openai.api_version,\n",
    "    openai_api_key=openai.api_key,\n",
    "    azure_deployment = \"chat\",\n",
    "    azure_endpoint=openai.api_base)"
   ]
  },
  {
   "cell_type": "code",
   "execution_count": 15,
   "metadata": {},
   "outputs": [],
   "source": [
    "vector_store = AzureCosmosDBVectorSearch.from_connection_string(\n",
    "    connection_string=CONNECTION_STRING,\n",
    "    embedding=openai_embeddings,\n",
    "    namespace=NAMESPACE,\n",
    ")"
   ]
  },
  {
   "cell_type": "code",
   "execution_count": 16,
   "metadata": {},
   "outputs": [],
   "source": [
    "qa = RetrievalQA.from_chain_type(\n",
    "    llm=llm,\n",
    "    chain_type=\"stuff\",\n",
    "    retriever=vector_store.as_retriever(),\n",
    "    verbose=True\n",
    ")"
   ]
  },
  {
   "cell_type": "code",
   "execution_count": 17,
   "metadata": {},
   "outputs": [],
   "source": [
    "# You can create the tool to pass to an agent\n",
    "tools = [\n",
    "    Tool(\"Contoso Electronics Handbook and benefits Search\",\n",
    "    description = \"use this tool to search for information related to contoso electronics employee benefits and handbook\",\n",
    "     func=qa.run)\n",
    "]\n",
    "sid =\"your_session_id\"\n",
    "message_history = MongoDBChatMessageHistory(connection_string=f\"{CONNECTION_STRING}\", database_name=\"chatmemorydb\", collection_name=\"chatemorycoll\",session_id=sid)\n",
    "memory = ConversationBufferMemory(memory_key=\"chat_history\", return_messages=True, chat_memory=message_history)"
   ]
  },
  {
   "cell_type": "code",
   "execution_count": 18,
   "metadata": {},
   "outputs": [],
   "source": [
    "prefix = \"\"\"Have a conversation with a human, answering the following questions based on LLM knowledge , current events or Contoso Electronics Benefit Knowledge Base\"\"\"\n",
    "suffix = \"\"\"Begin!\"\n",
    "\n",
    "{chat_history}\n",
    "Question: {input}\n",
    "{agent_scratchpad}\"\"\"\n",
    "\n",
    "prompt = ZeroShotAgent.create_prompt(\n",
    "    tools=tools,\n",
    "    prefix=prefix,\n",
    "    suffix=suffix,\n",
    "    input_variables=[\"input\", \"chat_history\", \"agent_scratchpad\"],\n",
    ")"
   ]
  },
  {
   "cell_type": "code",
   "execution_count": 19,
   "metadata": {},
   "outputs": [
    {
     "name": "stdout",
     "output_type": "stream",
     "text": [
      "\n",
      "\n",
      "\u001b[1m> Entering new AgentExecutor chain...\u001b[0m\n",
      "\u001b[32;1m\u001b[1;3m{\n",
      "    \"action\": \"Contoso Electronics Handbook and benefits Search\",\n",
      "    \"action_input\": \"difference between stand and plus plans\"\n",
      "}\u001b[0m\n",
      "\n",
      "\u001b[1m> Entering new RetrievalQA chain...\u001b[0m\n",
      "\n",
      "\u001b[1m> Finished chain.\u001b[0m\n",
      "\n",
      "Observation: \u001b[36;1m\u001b[1;3mThe main difference between the Northwind Standard and Northwind Health Plus plans is the level of coverage they offer. \n",
      "\n",
      "Northwind Health Plus is a comprehensive plan that provides coverage for medical, vision, and dental services. It also includes prescription drug coverage, mental health and substance abuse coverage, and coverage for preventive care services. This plan allows you to choose from a variety of in-network providers, including primary care physicians, specialists, hospitals, and pharmacies. It also offers coverage for emergency services, both in-network and out-of-network.\n",
      "\n",
      "On the other hand, Northwind Standard is a basic plan that provides coverage for medical, vision, and dental services. It also includes coverage for preventive care services and prescription drugs. However, this plan does not offer coverage for emergency services, mental health and substance abuse coverage, or out-of-network services.\n",
      "\n",
      "In summary, Northwind Health Plus offers a wider range of coverage compared to Northwind Standard, including mental health and substance abuse coverage, out-of-network services, and emergency services coverage.\u001b[0m\n",
      "Thought:\u001b[32;1m\u001b[1;3m{\n",
      "    \"action\": \"Final Answer\",\n",
      "    \"action_input\": \"The main difference between the Northwind Standard and Northwind Health Plus plans offered to Contoso employees is that Northwind Health Plus is a comprehensive plan that provides coverage for medical, vision, and dental services, prescription drugs, mental health and substance abuse services, and coverage for emergency services both in-network and out-of-network. On the other hand, Northwind Standard is a basic plan that provides coverage for medical, vision, and dental services, prescription drugs, and coverage for preventive care services, but does not include coverage for mental health and substance abuse services or emergency services outside of the network.\"\n",
      "}\u001b[0m\n",
      "\n",
      "\u001b[1m> Finished chain.\u001b[0m\n"
     ]
    },
    {
     "data": {
      "text/plain": [
       "'The main difference between the Northwind Standard and Northwind Health Plus plans offered to Contoso employees is that Northwind Health Plus is a comprehensive plan that provides coverage for medical, vision, and dental services, prescription drugs, mental health and substance abuse services, and coverage for emergency services both in-network and out-of-network. On the other hand, Northwind Standard is a basic plan that provides coverage for medical, vision, and dental services, prescription drugs, and coverage for preventive care services, but does not include coverage for mental health and substance abuse services or emergency services outside of the network.'"
      ]
     },
     "execution_count": 19,
     "metadata": {},
     "output_type": "execute_result"
    }
   ],
   "source": [
    "agent = initialize_agent(\n",
    "    agent='chat-conversational-react-description',\n",
    "    tools=tools,\n",
    "    llm=llm,\n",
    "    verbose=True,\n",
    "    prompt=prompt,\n",
    "    memory=memory)\n",
    "\n",
    "agent.run(input=\"what are difference between stand and plus plans offered to contoso employees?\")\n",
    "# agent.run(input=\"what are the company values for Contoso Electronics?\")"
   ]
  },
  {
   "cell_type": "code",
   "execution_count": null,
   "metadata": {},
   "outputs": [],
   "source": []
  }
 ],
 "metadata": {
  "colab": {
   "provenance": []
  },
  "kernelspec": {
   "display_name": "Python 3 (ipykernel)",
   "language": "python",
   "name": "python3"
  },
  "language_info": {
   "codemirror_mode": {
    "name": "ipython",
    "version": 3
   },
   "file_extension": ".py",
   "mimetype": "text/x-python",
   "name": "python",
   "nbconvert_exporter": "python",
   "pygments_lexer": "ipython3",
   "version": "3.9.16"
  }
 },
 "nbformat": 4,
 "nbformat_minor": 4
}
